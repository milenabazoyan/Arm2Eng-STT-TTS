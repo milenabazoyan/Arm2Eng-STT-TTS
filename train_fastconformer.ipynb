{
  "nbformat": 4,
  "nbformat_minor": 0,
  "metadata": {
    "colab": {
      "provenance": [],
      "gpuType": "T4",
      "machine_shape": "hm"
    },
    "kernelspec": {
      "name": "python3",
      "display_name": "Python 3"
    },
    "language_info": {
      "name": "python"
    },
    "accelerator": "GPU"
  },
  "cells": [
    {
      "cell_type": "markdown",
      "source": [
        "####Install required packages (only needed if not already installed)"
      ],
      "metadata": {
        "id": "V2NUaQL5_YGO"
      }
    },
    {
      "cell_type": "code",
      "source": [
        "!pip install nemo_toolkit['all'] --upgrade\n",
        "!pip install numpy==1.24.3 --upgrade\n",
        "!pip install --upgrade pytorch-lightning>=2.0.0\n",
        "!pip install numba==0.61.0"
      ],
      "metadata": {
        "id": "Dr-wsjRM5Pt_"
      },
      "execution_count": null,
      "outputs": []
    },
    {
      "cell_type": "markdown",
      "source": [
        "####Set environment variables for Numba and Hydra"
      ],
      "metadata": {
        "id": "E1JWv_JJ_fyJ"
      }
    },
    {
      "cell_type": "code",
      "source": [
        "import os\n",
        "\n",
        "os.environ[\"NUMBA_CUDA_USE_NVIDIA_BINDING\"] = \"1\"\n",
        "os.environ[\"NUMBA_CUDA_DEFAULT_PTX_CC\"] = \"7.5\"\n",
        "os.environ[\"NUMBA_DEFAULT_PTX_VERSION\"] = \"8.4\"\n",
        "os.environ[\"HYDRA_FULL_ERROR\"] = \"1\""
      ],
      "metadata": {
        "colab": {
          "base_uri": "https://localhost:8080/"
        },
        "id": "pSGEQ8wKO1Ub",
        "outputId": "8425b01b-968b-4745-b1c7-511539b5cb52"
      },
      "execution_count": 1,
      "outputs": [
        {
          "output_type": "stream",
          "name": "stdout",
          "text": [
            "env: NUMBA_CUDA_USE_NVIDIA_BINDING=1\n",
            "env: NUMBA_CUDA_DEFAULT_PTX_CC=7.5\n",
            "env: NUMBA_DEFAULT_PTX_VERSION=8.4\n",
            "env: HYDRA_FULL_ERROR=1\n"
          ]
        }
      ]
    },
    {
      "cell_type": "markdown",
      "source": [
        "#####Mount Google Drive (only if in Colab)"
      ],
      "metadata": {
        "id": "sxC9mryX_87R"
      }
    },
    {
      "cell_type": "code",
      "source": [
        "from google.colab import drive\n",
        "drive.mount('/content/drive')"
      ],
      "metadata": {
        "colab": {
          "base_uri": "https://localhost:8080/"
        },
        "id": "n9VwGB_7EhrZ",
        "outputId": "ff80a860-5ad6-40eb-ef0c-c30dea430bdc"
      },
      "execution_count": 1,
      "outputs": [
        {
          "output_type": "stream",
          "name": "stdout",
          "text": [
            "Mounted at /content/drive\n"
          ]
        }
      ]
    },
    {
      "cell_type": "markdown",
      "source": [
        "####Copy fine-tuning config to NeMo examples directory (Colab specific)"
      ],
      "metadata": {
        "id": "EmzPt-1sNyYV"
      }
    },
    {
      "cell_type": "code",
      "source": [
        "os.makedirs(\n",
        "    \"/content/NeMo/examples/asr/conf/conformer/hybrid_transducer_ctc/\", exist_ok=True\n",
        ")\n",
        "\n",
        "!cp /content/drive/MyDrive/Capstone/configs/finetune_fastconformer.yaml \\\n",
        "    /content/NeMo/examples/asr/conf/conformer/hybrid_transducer_ctc/finetune_fastconformer.yaml"
      ],
      "metadata": {
        "id": "QUPjInoPEnli"
      },
      "execution_count": null,
      "outputs": []
    },
    {
      "cell_type": "code",
      "source": [
        "#Verify config was copied\n",
        "!ls /content/NeMo/examples/asr/conf/conformer/hybrid_transducer_ctc"
      ],
      "metadata": {
        "colab": {
          "base_uri": "https://localhost:8080/"
        },
        "id": "XMqmm-DJEuQk",
        "outputId": "973461ad-2f3f-4526-faf3-d43fb2597b83"
      },
      "execution_count": null,
      "outputs": [
        {
          "output_type": "stream",
          "name": "stdout",
          "text": [
            "conformer_hybrid_transducer_ctc_bpe.yaml   finetune_fastconformer.yaml\n",
            "conformer_hybrid_transducer_ctc_char.yaml\n"
          ]
        }
      ]
    },
    {
      "cell_type": "markdown",
      "source": [
        "####Run fine-tuning training script"
      ],
      "metadata": {
        "id": "6JkT5OjcOAOg"
      }
    },
    {
      "cell_type": "code",
      "source": [
        "import subprocess\n",
        "\n",
        "train_process = subprocess.Popen(\n",
        "    [\n",
        "        \"python\",\n",
        "        \"/content/NeMo/examples/asr/asr_hybrid_transducer_ctc/speech_to_text_hybrid_rnnt_ctc_bpe.py\",\n",
        "        \"--config-path=/content/drive/MyDrive/Capstone/configs\",\n",
        "        \"--config-name=finetune_fastconformer\"\n",
        "    ],\n",
        "    stdout=subprocess.PIPE,\n",
        "    stderr=subprocess.STDOUT,\n",
        "    text=True\n",
        ")\n",
        "\n",
        "for line in train_process.stdout:\n",
        "    print(line, end=\"\")"
      ],
      "metadata": {
        "id": "_6qI8lReEyJA"
      },
      "execution_count": null,
      "outputs": []
    }
  ]
}