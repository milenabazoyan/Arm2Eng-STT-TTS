{
  "nbformat": 4,
  "nbformat_minor": 0,
  "metadata": {
    "colab": {
      "provenance": []
    },
    "kernelspec": {
      "name": "python3",
      "display_name": "Python 3"
    },
    "language_info": {
      "name": "python"
    }
  },
  "cells": [
    {
      "cell_type": "code",
      "source": [
        "import os\n",
        "import json\n",
        "import pandas as pd\n",
        "\n",
        "#dataset root relative to the repo structure\n",
        "DATASET_PATH = os.path.join(os.path.dirname(__file__), '..', 'data')\n",
        "CLIPS_DIR = os.path.join(DATASET_PATH, 'clips')  #Ensure this exists if needed\n",
        "\n",
        "def create_manifest(csv_filename, manifest_rel_name, manifest_abs_name):\n",
        "    csv_path = os.path.join(DATASET_PATH, 'processed', csv_filename)\n",
        "    df = pd.read_csv(csv_path)\n",
        "\n",
        "    rel_manifest_path = os.path.join('..', 'manifests', manifest_rel_name)\n",
        "    abs_manifest_path = os.path.join('..', 'manifests', manifest_abs_name)\n",
        "\n",
        "    rel_entries = []\n",
        "    abs_entries = []\n",
        "\n",
        "    for _, row in df.iterrows():\n",
        "        rel_path = row[\"wav_path\"]\n",
        "        abs_path = os.path.abspath(os.path.join(DATASET_PATH, rel_path))\n",
        "\n",
        "        entry = {\n",
        "            \"audio_filepath\": rel_path,\n",
        "            \"text\": row[\"transcript\"]\n",
        "        }\n",
        "        rel_entries.append(entry)\n",
        "\n",
        "        abs_entry = entry.copy()\n",
        "        abs_entry[\"audio_filepath\"] = abs_path\n",
        "        abs_entries.append(abs_entry)\n",
        "\n",
        "    with open(rel_manifest_path, 'w', encoding='utf-8') as f_rel, \\\n",
        "         open(abs_manifest_path, 'w', encoding='utf-8') as f_abs:\n",
        "        for r, a in zip(rel_entries, abs_entries):\n",
        "            f_rel.write(json.dumps(r, ensure_ascii=False) + '\\n')\n",
        "            f_abs.write(json.dumps(a, ensure_ascii=False) + '\\n')\n",
        "\n",
        "def create_test_manifest(test_tsv_filename, rel_output_name, abs_output_name):\n",
        "    test_tsv_path = os.path.join(DATASET_PATH, 'raw', test_tsv_filename)\n",
        "    df = pd.read_csv(test_tsv_path, sep='\\t')\n",
        "\n",
        "    rel_manifest_path = os.path.join('..', 'manifests', rel_output_name)\n",
        "    abs_manifest_path = os.path.join('..', 'manifests', abs_output_name)\n",
        "\n",
        "    with open(rel_manifest_path, 'w', encoding='utf-8') as f_rel, \\\n",
        "         open(abs_manifest_path, 'w', encoding='utf-8') as f_abs:\n",
        "        for _, row in df.iterrows():\n",
        "            relative_wav_path = os.path.join('clips', row[\"path\"].replace(\".mp3\", \".wav\"))\n",
        "            absolute_wav_path = os.path.abspath(os.path.join(DATASET_PATH, relative_wav_path))\n",
        "\n",
        "            entry_rel = {\n",
        "                \"audio_filepath\": relative_wav_path,\n",
        "                \"text\": row[\"sentence\"]\n",
        "            }\n",
        "            entry_abs = {\n",
        "                \"audio_filepath\": absolute_wav_path,\n",
        "                \"text\": row[\"sentence\"]\n",
        "            }\n",
        "            f_rel.write(json.dumps(entry_rel, ensure_ascii=False) + '\\n')\n",
        "            f_abs.write(json.dumps(entry_abs, ensure_ascii=False) + '\\n')\n",
        "\n",
        "\n",
        "create_manifest(\"final_train.csv\", \"train_manifest.jsonl\", \"train_manifest_abs.jsonl\")\n",
        "create_manifest(\"validation.csv\", \"val_manifest.jsonl\", \"val_manifest_abs.jsonl\")\n",
        "create_test_manifest(\"test.tsv\", \"test_manifest.jsonl\", \"test_manifest_abs.jsonl\")"
      ],
      "metadata": {
        "id": "QQ2dQ0Uqpvjw"
      },
      "execution_count": 11,
      "outputs": []
    }
  ]
}