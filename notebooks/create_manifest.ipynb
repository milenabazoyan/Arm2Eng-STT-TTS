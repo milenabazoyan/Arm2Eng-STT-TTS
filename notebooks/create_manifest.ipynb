{
  "nbformat": 4,
  "nbformat_minor": 0,
  "metadata": {
    "colab": {
      "provenance": []
    },
    "kernelspec": {
      "name": "python3",
      "display_name": "Python 3"
    },
    "language_info": {
      "name": "python"
    }
  },
  "cells": [
    {
      "cell_type": "code",
      "execution_count": null,
      "metadata": {
        "id": "aocdT5ccHfst"
      },
      "outputs": [],
      "source": [
        "import os\n",
        "import json\n",
        "import pandas as pd\n",
        "\n",
        "# Define you dataset path\n",
        "# My Example (for Google Colab with mounted Drive):\n",
        "# DATASET_PATH = \"/content/drive/MyDrive/Capstone/cv-corpus-20.0-2024-12-06/hy-AM\"\n",
        "\n",
        "DATASET_PATH = \"/your/local/or/colab/path/to/dataset\"\n",
        "\n",
        "def create_manifest(csv_filename, manifest_rel_name, manifest_abs_name):\n",
        "    csv_path = os.path.join(DATASET_PATH, csv_filename)\n",
        "    df = pd.read_csv(csv_path)\n",
        "\n",
        "    rel_manifest_path = os.path.join(DATASET_PATH, manifest_rel_name)\n",
        "    abs_manifest_path = os.path.join(DATASET_PATH, manifest_abs_name)\n",
        "\n",
        "    rel_entries = []\n",
        "    abs_entries = []\n",
        "\n",
        "    for _, row in df.iterrows():\n",
        "        rel_path = row[\"wav_path\"]\n",
        "        abs_path = os.path.abspath(os.path.join(DATASET_PATH, rel_path))\n",
        "\n",
        "        entry = {\n",
        "            \"audio_filepath\": rel_path,\n",
        "            \"text\": row[\"transcript\"]\n",
        "        }\n",
        "        rel_entries.append(entry)\n",
        "\n",
        "        abs_entry = entry.copy()\n",
        "        abs_entry[\"audio_filepath\"] = abs_path\n",
        "        abs_entries.append(abs_entry)\n",
        "\n",
        "    with open(rel_manifest_path, 'w', encoding='utf-8') as f_rel, \\\n",
        "         open(abs_manifest_path, 'w', encoding='utf-8') as f_abs:\n",
        "        for r, a in zip(rel_entries, abs_entries):\n",
        "            json.dump(r, f_rel)\n",
        "            f_rel.write('\\n')\n",
        "            json.dump(a, f_abs)\n",
        "            f_abs.write('\\n')\n",
        "\n",
        "    print(f\"Created: {rel_manifest_path}\")\n",
        "    print(f\"Created: {abs_manifest_path}\")\n",
        "\n",
        "#Generate manifests for train and validation\n",
        "create_manifest(\"train.csv\", \"train_manifest.jsonl\", \"train_manifest_abs.jsonl\")\n",
        "create_manifest(\"validation.csv\", \"val_manifest.jsonl\", \"val_manifest_abs.jsonl\")"
      ]
    }
  ]
}