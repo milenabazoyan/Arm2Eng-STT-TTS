{
  "nbformat": 4,
  "nbformat_minor": 0,
  "metadata": {
    "colab": {
      "provenance": [],
      "gpuType": "T4",
      "machine_shape": "hm"
    },
    "kernelspec": {
      "name": "python3",
      "display_name": "Python 3"
    },
    "language_info": {
      "name": "python"
    },
    "accelerator": "GPU"
  },
  "cells": [
    {
      "cell_type": "markdown",
      "source": [
        "# Fine-Tuning FastConformer for Armenian ASR"
      ],
      "metadata": {
        "id": "2otvINnNvLR-"
      }
    },
    {
      "cell_type": "markdown",
      "source": [
        "This notebook launches training for the FastConformer-Hybrid-Transducer-CTC model using NVIDIA NeMo’s CLI-style `speech_to_text_eval.py` entry point.\n",
        "\n",
        "- Model: `FastConformer-Hybrid`\n",
        "- Training script: `asr/NeMo/examples/asr/asr_hybrid_transducer_ctc/speech_to_text_eval.py`\n",
        "- Config: `asr/configs/finetune_fastconformer.yaml`\n",
        "- Manifests: `asr/manifests/*.jsonl`\n",
        "\n",
        "**Ensure the following before running:**\n",
        "- NeMo is cloned into `asr/NeMo/`\n",
        "- Your `stt_hy_fastconformer_hybrid_large_pc.nemo` model is placed in `data/`\n",
        "- Your tokenizer files are under `tokenizer/`\n",
        "- All paths inside the YAML config are relative and correct"
      ],
      "metadata": {
        "id": "MfISNiQYvNXJ"
      }
    },
    {
      "cell_type": "markdown",
      "source": [
        "####Set environment variables for Numba and Hydra"
      ],
      "metadata": {
        "id": "E1JWv_JJ_fyJ"
      }
    },
    {
      "cell_type": "code",
      "source": [
        "import os\n",
        "os.environ[\"HYDRA_FULL_ERROR\"] = \"1\""
      ],
      "metadata": {
        "id": "pSGEQ8wKO1Ub"
      },
      "execution_count": null,
      "outputs": []
    },
    {
      "cell_type": "code",
      "source": [
        "import subprocess\n",
        "\n",
        "#Define relative paths to YAML config and NeMo script\n",
        "CONFIG_PATH = os.path.join(\"..\", \"configs\")\n",
        "CONFIG_NAME = \"finetune_fastconformer\"\n",
        "SCRIPT_PATH = os.path.join(\"..\", \"NeMo\", \"examples\", \"asr\", \"asr_hybrid_transducer_ctc\", \"speech_to_text_eval.py\")\n",
        "\n",
        "#Launch the NeMo training subprocess\n",
        "process = subprocess.Popen(\n",
        "    [\n",
        "        \"python\",\n",
        "        SCRIPT_PATH,\n",
        "        f\"--config-path={CONFIG_PATH}\",\n",
        "        f\"--config-name={CONFIG_NAME}\"\n",
        "    ],\n",
        "    stdout=subprocess.PIPE,\n",
        "    stderr=subprocess.STDOUT,\n",
        "    text=True\n",
        ")\n",
        "\n",
        "#Stream training output live\n",
        "for line in process.stdout:\n",
        "    print(line, end=\"\")"
      ],
      "metadata": {
        "id": "iERs8j1JvaST"
      },
      "execution_count": null,
      "outputs": []
    },
    {
      "cell_type": "markdown",
      "source": [
        "## Notes\n",
        "\n",
        "- Logs and checkpoints are handled as defined in the `exp_manager` section of the YAML config.\n",
        "- You can monitor training outputs via console or any configured logger (TensorBoard, W&B, etc.).\n",
        "- For debugging YAML configs, setting `HYDRA_FULL_ERROR=1` helps see full traceback messages."
      ],
      "metadata": {
        "id": "wAI4bfSrvf0e"
      }
    }
  ]
}